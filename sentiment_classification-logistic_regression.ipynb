{
 "cells": [
  {
   "cell_type": "code",
   "execution_count": null,
   "metadata": {
    "collapsed": true
   },
   "outputs": [],
   "source": [
    "import tensorflow as tf\n",
    "import numpy as np\n",
    "\n",
    "\n",
    "\n",
    "#parameter\n",
    "train_file=\"data/book/test\" #test file has 1101entries\n",
    "test_file=\"data/book/train\" #train file has 4400entries\n",
    "dictionary_size=10000\n",
    "stopword_size=100\n",
    "\n",
    "type=\"logistic\" # logistic or nural-network"
   ]
  },
  {
   "cell_type": "code",
   "execution_count": null,
   "metadata": {
    "collapsed": false
   },
   "outputs": [],
   "source": [
    "#step1\n",
    "#reading data \n",
    "class OneEntry:\n",
    "    def __init__(self,line):\n",
    "        self.terms={}\n",
    "        for feature in line.split(\" \"):\n",
    "            feature_str=feature.split(\":\")\n",
    "            self.terms[feature_str[0]]=feature_str[1]\n",
    "        \n",
    "        self.sentiment=self.terms[\"#label#\"]\n",
    "        del self.terms[\"#label#\"]\n",
    "\n",
    "def make_entries(filename):\n",
    "    entries=[]\n",
    "    with open(filename,\"r\") as f:\n",
    "        for line in f.readlines():\n",
    "            entries.append(OneEntry(line.rstrip()))\n",
    "    \n",
    "    return entries\n",
    "\n",
    "entries=make_entries(train_file)\n",
    "print len(entries),\"entries\"\n",
    "\n",
    "#test to print one entry\n",
    "print \"sentiment\",entries[0].sentiment\n",
    "print entries[0].terms"
   ]
  },
  {
   "cell_type": "code",
   "execution_count": null,
   "metadata": {
    "collapsed": false,
    "scrolled": true
   },
   "outputs": [],
   "source": [
    "#step2\n",
    "#making entire term dictionary\n",
    "def get_whole_dictionary(entries):\n",
    "    #merge all entries terms\n",
    "    mergedterms={}\n",
    "    for entry in entries:\n",
    "        for term,freq in entry.terms.items():\n",
    "            mergedterms[term]=mergedterms.get(term,0)+int(freq)\n",
    "    \n",
    "    return mergedterms\n",
    "\n",
    "entire_terms=get_whole_dictionary(entries)\n",
    "dictionary=sorted(entire_terms.items(),key=lambda x:x[1],reverse=True)[stopword_size:stopword_size+dictionary_size]\n",
    "dictionary=[term[0] for term in dictionary]\n",
    "\n",
    "#test print\n",
    "print len(dictionary),\"words\"\n",
    "print dictionary[0:10]"
   ]
  },
  {
   "cell_type": "code",
   "execution_count": null,
   "metadata": {
    "collapsed": false
   },
   "outputs": [],
   "source": [
    "#step3\n",
    "#making batch data for learning\n",
    "def get_batch(size,page,entries,dictionary):\n",
    "    assert page>0\n",
    "    assert len(entries) >= size * page\n",
    "    \n",
    "    x=np.zeros(shape=(size,len(dictionary)),dtype=np.int32)\n",
    "    y=np.zeros([size,2])\n",
    "    for datanum,entry in enumerate(entries[(page-1)*size:size*page]):\n",
    "        for term,freq in entry.terms.items():\n",
    "            if term in dictionary:\n",
    "                x[datanum][dictionary.index(term)]+=int(freq)\n",
    "        if float(entry.sentiment) > 3.0:\n",
    "            y[datanum][1]=1\n",
    "        else:\n",
    "            y[datanum][0]=1\n",
    "    \n",
    "    return x,y\n",
    "\n",
    "#making test batch\n",
    "x_tmp,y_tmp=get_batch(8,1,entries,dictionary)\n",
    "print x_tmp[0],y_tmp[1]\n"
   ]
  },
  {
   "cell_type": "code",
   "execution_count": null,
   "metadata": {
    "collapsed": false
   },
   "outputs": [],
   "source": [
    "#step4\n",
    "#defining nural network \n",
    "\n",
    "#input feature\n",
    "x=tf.placeholder(tf.float32,[None,dictionary_size])\n",
    "\n",
    "if type==\"logistic\":\n",
    "    print \"logistic regression model\"\n",
    "    #plane logistic regression model\n",
    "    #Ops\n",
    "    W=tf.Variable(tf.zeros([dictionary_size,2]))\n",
    "    b=tf.Variable(tf.zeros([2]))\n",
    "\n",
    "    #predictions\n",
    "    y=tf.nn.softmax(tf.matmul(x,W)+b)\n",
    "\n",
    "    #true label\n",
    "    y_=tf.placeholder(tf.float32,[None,2])\n",
    "\n",
    "    #learning process\n",
    "    cross_entropy = tf.reduce_mean(-tf.reduce_sum(y_ * tf.log(y), reduction_indices=[1]))\n",
    "    train_step = tf.train.GradientDescentOptimizer(0.5).minimize(cross_entropy)\n",
    "else:\n",
    "    print \"nural network model\"\n",
    "    # 2layers nural network\n",
    "    hidden_size=2\n",
    "    lambda_2=0.01\n",
    "    \n",
    "    #input layer \n",
    "    # dict_size x 2\n",
    "    W_in=tf.Variable(tf.zeros([dictionary_size,hidden_size]))\n",
    "    b_in=tf.Variable(tf.zeros([hidden_size]))\n",
    "\n",
    "    y1=tf.nn.sigmoid(tf.matmul(x,W_in)+b_in)\n",
    "    \n",
    "    #output layer\n",
    "    # 2x2\n",
    "    W_out=tf.Variable(tf.zeros([hidden_size,2]))\n",
    "    b_out=tf.Variable(tf.zeros([2]))\n",
    "    \n",
    "    #predictions\n",
    "    y=tf.nn.softmax(tf.matmul(y1,W_out)+b_out)\n",
    "    \n",
    "    #true label\n",
    "    y_=tf.placeholder(tf.float32,[None,2])\n",
    "\n",
    "    #learning process\n",
    "    cross_entropy = tf.reduce_mean(-tf.reduce_sum(y_ * tf.log(y), reduction_indices=[1]))\n",
    "    L2_sqr=tf.nn.l2_loss(W_in)+tf.nn.l2_loss(W_out)\n",
    "    loss=cross_entropy+lambda_2*L2_sqr\n",
    "    train_step = tf.train.GradientDescentOptimizer(0.5).minimize(loss)"
   ]
  },
  {
   "cell_type": "code",
   "execution_count": null,
   "metadata": {
    "collapsed": false
   },
   "outputs": [],
   "source": [
    "#step5\n",
    "#learning\n",
    "batch_size=10\n",
    "entries_len=len(entries)\n",
    "\n",
    "init = tf.initialize_all_variables()\n",
    "sess=tf.Session()\n",
    "sess.run(init)\n",
    "entropy=0\n",
    "\n",
    "for step in range(entries_len/batch_size):\n",
    "    batch_x,batch_y=get_batch(batch_size,step+1,entries,dictionary)\n",
    "    if step%20:\n",
    "        print sess.run(train_step,feed_dict={x:batch_x,y_:batch_y})\n",
    "    else:\n",
    "        sess.run(train_step,feed_dict={x:batch_x,y_:batch_y})\n",
    "    \n",
    "#     if step%100:\n",
    "#         print \"Average cross entropy\",entropy/10\n",
    "#         entropy=0"
   ]
  },
  {
   "cell_type": "code",
   "execution_count": null,
   "metadata": {
    "collapsed": false
   },
   "outputs": [],
   "source": [
    "#step6\n",
    "#evaluating\n",
    "correct_prediction = tf.equal(tf.argmax(y,1), tf.argmax(y_,1))\n",
    "accuracy = tf.reduce_mean(tf.cast(correct_prediction, tf.float32))\n",
    "\n",
    "test_entries=make_entries(test_file)\n",
    "test_x,test_y=get_batch(len(test_entries),1,test_entries,dictionary)\n",
    "print \"accuracy:\",sess.run(accuracy, feed_dict={x: test_x, y_: test_y})"
   ]
  },
  {
   "cell_type": "code",
   "execution_count": null,
   "metadata": {
    "collapsed": true
   },
   "outputs": [],
   "source": []
  }
 ],
 "metadata": {
  "kernelspec": {
   "display_name": "Python 2",
   "language": "python",
   "name": "python2"
  },
  "language_info": {
   "codemirror_mode": {
    "name": "ipython",
    "version": 2
   },
   "file_extension": ".py",
   "mimetype": "text/x-python",
   "name": "python",
   "nbconvert_exporter": "python",
   "pygments_lexer": "ipython2",
   "version": "2.7.9"
  }
 },
 "nbformat": 4,
 "nbformat_minor": 1
}
